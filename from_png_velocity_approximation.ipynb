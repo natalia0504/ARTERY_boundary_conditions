{
 "cells": [
  {
   "cell_type": "code",
   "execution_count": null,
   "metadata": {},
   "outputs": [],
   "source": [
    "import numpy as np\n",
    "#import scipy as sp\n",
    "import matplotlib.pyplot as plt\n",
    "from scipy import misc"
   ]
  },
  {
   "cell_type": "code",
   "execution_count": 36,
   "metadata": {},
   "outputs": [
    {
     "name": "stdout",
     "output_type": "stream",
     "text": [
      "array([[0., 0., 0., ..., 0., 0., 0.],\n",
      "       [0., 0., 0., ..., 0., 0., 0.],\n",
      "       [0., 0., 0., ..., 0., 0., 0.],\n",
      "       ...,\n",
      "       [1., 0., 0., ..., 0., 1., 0.],\n",
      "       [0., 0., 0., ..., 0., 1., 0.],\n",
      "       [1., 0., 0., ..., 0., 0., 1.]])\n"
     ]
    }
   ],
   "source": [
    "from PIL import Image\n",
    "from numpy import*\n",
    "from pprint import pprint\n",
    "\n",
    "temp=Image.open('velocity.png')\n",
    "\n",
    "temp=temp.convert('1')      # Convert to black&white\n",
    "\n",
    "A = array(temp)             # Creates an array, white pixels==True and black pixels==False\n",
    "\n",
    "new_A=empty((A.shape[0],A.shape[1]),None)    #New array with same size as A\n",
    "\n",
    "for i in range(len(A)):\n",
    "    for j in range(len(A[i])):\n",
    "        if A[i][j]==False:\n",
    "            new_A[i][j]=1\n",
    "        else:\n",
    "            new_A[i][j]=0\n",
    "            \n",
    "pprint(new_A)\n",
    "new_A.dtype\n",
    "\n",
    "np.savetxt(\"img_pixels.csv\", img, delimiter=';')\n",
    "\n"
   ]
  },
  {
   "cell_type": "code",
   "execution_count": 87,
   "metadata": {},
   "outputs": [
    {
     "name": "stdout",
     "output_type": "stream",
     "text": [
      "<PIL.BmpImagePlugin.BmpImageFile image mode=1 size=100x173 at 0x281A813E518>\n",
      "[[ True  True  True ...  True  True  True]\n",
      " [ True  True  True ...  True  True  True]\n",
      " [ True  True  True ...  True  True  True]\n",
      " ...\n",
      " [False  True  True ...  True False  True]\n",
      " [False  True  True ...  True False  True]\n",
      " [False  True  True ...  True  True False]]\n",
      "bool\n",
      "True\n"
     ]
    },
    {
     "data": {
      "text/plain": [
       "[<matplotlib.lines.Line2D at 0x281a8164128>]"
      ]
     },
     "execution_count": 87,
     "metadata": {},
     "output_type": "execute_result"
    },
    {
     "data": {
      "image/png": "[encoded data removed]",
      "text/plain": [
       "<Figure size 432x288 with 1 Axes>"
      ]
     },
     "metadata": {},
     "output_type": "display_data"
    }
   ],
   "source": [
    "from PIL import Image\n",
    "from pprint import pprint\n",
    "import matplotlib.pylab as plt\n",
    "import numpy as np\n",
    "\n",
    "img = Image.open(\"velocity.bmp\")\n",
    "try:\n",
    "    data = np.asarray( img, dtype='bool' )\n",
    "except SystemError:\n",
    "    data = np.asarray( img.getdata(), dtype='bool' )\n",
    "\n",
    "print(img)\n",
    "print(data)\n",
    "#np.savetxt(\"velocity.csv\", img, delimiter=',')\n",
    "\n",
    "cor_y=[] \n",
    "cor_x=[]\n",
    "\n",
    "print(data.dtype)\n",
    "print(data[56][45])\n",
    "\n",
    "\n",
    "for i in range(0,172):\n",
    "    for j in range(0,99):\n",
    "        if data[i][j]==False:\n",
    "            cor_x.append(j*0.01)\n",
    "            cor_y.append(i*0.01)\n",
    "            \n",
    "#pprint(cor_x)\n",
    "#pprint(cor_y)\n",
    "x=np.array(cor_x)\n",
    "reverse_y = np.array(cor_y)\n",
    "y=\n",
    "\n",
    "plt.plot(x, reverse_y, linestyle='none', marker='o')\n",
    "\n",
    "\n",
    "\n"
   ]
  },
  {
   "cell_type": "code",
   "execution_count": 55,
   "metadata": {},
   "outputs": [
    {
     "name": "stdout",
     "output_type": "stream",
     "text": [
      "dtype('<U24')\n"
     ]
    }
   ],
   "source": [
    "import os\n",
    "import linecache\n",
    "from pprint import pprint\n",
    "import csv\n",
    "\n",
    "lista=[]\n",
    "\n",
    "data=open(\"velocity.csv\")\n",
    "with open(\"velocity.csv\") as f:\n",
    "    reader = csv.reader(f)\n",
    "    for row in reader:\n",
    "        lista.append(row)\n",
    "\n",
    "array_2d = np.array(lista)\n",
    "\n",
    "pprint(array_2d.dtype)\n"
   ]
  },
  {
   "cell_type": "code",
   "execution_count": 22,
   "metadata": {},
   "outputs": [
    {
     "name": "stdout",
     "output_type": "stream",
     "text": [
      "<class 'pandas.core.frame.DataFrame'>\n",
      "RangeIndex: 172 entries, 0 to 171\n",
      "Data columns (total 100 columns):\n",
      "1.000000000000000000e+00       172 non-null float64\n",
      "1.000000000000000000e+00.1     172 non-null float64\n",
      "1.000000000000000000e+00.2     172 non-null float64\n",
      "1.000000000000000000e+00.3     172 non-null float64\n",
      "1.000000000000000000e+00.4     172 non-null float64\n",
      "0.000000000000000000e+00       172 non-null float64\n",
      "0.000000000000000000e+00.1     172 non-null float64\n",
      "1.000000000000000000e+00.5     172 non-null float64\n",
      "1.000000000000000000e+00.6     172 non-null float64\n",
      "1.000000000000000000e+00.7     172 non-null float64\n",
      "1.000000000000000000e+00.8     172 non-null float64\n",
      "1.000000000000000000e+00.9     172 non-null float64\n",
      "1.000000000000000000e+00.10    172 non-null float64\n",
      "1.000000000000000000e+00.11    172 non-null float64\n",
      "1.000000000000000000e+00.12    172 non-null float64\n",
      "1.000000000000000000e+00.13    172 non-null float64\n",
      "1.000000000000000000e+00.14    172 non-null float64\n",
      "1.000000000000000000e+00.15    172 non-null float64\n",
      "1.000000000000000000e+00.16    172 non-null float64\n",
      "1.000000000000000000e+00.17    172 non-null float64\n",
      "1.000000000000000000e+00.18    172 non-null float64\n",
      "1.000000000000000000e+00.19    172 non-null float64\n",
      "1.000000000000000000e+00.20    172 non-null float64\n",
      "1.000000000000000000e+00.21    172 non-null float64\n",
      "1.000000000000000000e+00.22    172 non-null float64\n",
      "1.000000000000000000e+00.23    172 non-null float64\n",
      "1.000000000000000000e+00.24    172 non-null float64\n",
      "1.000000000000000000e+00.25    172 non-null float64\n",
      "1.000000000000000000e+00.26    172 non-null float64\n",
      "1.000000000000000000e+00.27    172 non-null float64\n",
      "1.000000000000000000e+00.28    172 non-null float64\n",
      "1.000000000000000000e+00.29    172 non-null float64\n",
      "1.000000000000000000e+00.30    172 non-null float64\n",
      "1.000000000000000000e+00.31    172 non-null float64\n",
      "1.000000000000000000e+00.32    172 non-null float64\n",
      "1.000000000000000000e+00.33    172 non-null float64\n",
      "1.000000000000000000e+00.34    172 non-null float64\n",
      "1.000000000000000000e+00.35    172 non-null float64\n",
      "1.000000000000000000e+00.36    172 non-null float64\n",
      "1.000000000000000000e+00.37    172 non-null float64\n",
      "1.000000000000000000e+00.38    172 non-null float64\n",
      "1.000000000000000000e+00.39    172 non-null float64\n",
      "1.000000000000000000e+00.40    172 non-null float64\n",
      "1.000000000000000000e+00.41    172 non-null float64\n",
      "1.000000000000000000e+00.42    172 non-null float64\n",
      "1.000000000000000000e+00.43    172 non-null float64\n",
      "1.000000000000000000e+00.44    172 non-null float64\n",
      "1.000000000000000000e+00.45    172 non-null float64\n",
      "1.000000000000000000e+00.46    172 non-null float64\n",
      "1.000000000000000000e+00.47    172 non-null float64\n",
      "1.000000000000000000e+00.48    172 non-null float64\n",
      "1.000000000000000000e+00.49    172 non-null float64\n",
      "1.000000000000000000e+00.50    172 non-null float64\n",
      "1.000000000000000000e+00.51    172 non-null float64\n",
      "1.000000000000000000e+00.52    172 non-null float64\n",
      "1.000000000000000000e+00.53    172 non-null float64\n",
      "1.000000000000000000e+00.54    172 non-null float64\n",
      "1.000000000000000000e+00.55    172 non-null float64\n",
      "1.000000000000000000e+00.56    172 non-null float64\n",
      "1.000000000000000000e+00.57    172 non-null float64\n",
      "1.000000000000000000e+00.58    172 non-null float64\n",
      "1.000000000000000000e+00.59    172 non-null float64\n",
      "1.000000000000000000e+00.60    172 non-null float64\n",
      "1.000000000000000000e+00.61    172 non-null float64\n",
      "1.000000000000000000e+00.62    172 non-null float64\n",
      "1.000000000000000000e+00.63    172 non-null float64\n",
      "1.000000000000000000e+00.64    172 non-null float64\n",
      "1.000000000000000000e+00.65    172 non-null float64\n",
      "1.000000000000000000e+00.66    172 non-null float64\n",
      "1.000000000000000000e+00.67    172 non-null float64\n",
      "1.000000000000000000e+00.68    172 non-null float64\n",
      "1.000000000000000000e+00.69    172 non-null float64\n",
      "1.000000000000000000e+00.70    172 non-null float64\n",
      "1.000000000000000000e+00.71    172 non-null float64\n",
      "1.000000000000000000e+00.72    172 non-null float64\n",
      "1.000000000000000000e+00.73    172 non-null float64\n",
      "1.000000000000000000e+00.74    172 non-null float64\n",
      "1.000000000000000000e+00.75    172 non-null float64\n",
      "1.000000000000000000e+00.76    172 non-null float64\n",
      "1.000000000000000000e+00.77    172 non-null float64\n",
      "1.000000000000000000e+00.78    172 non-null float64\n",
      "1.000000000000000000e+00.79    172 non-null float64\n",
      "1.000000000000000000e+00.80    172 non-null float64\n",
      "1.000000000000000000e+00.81    172 non-null float64\n",
      "1.000000000000000000e+00.82    172 non-null float64\n",
      "1.000000000000000000e+00.83    172 non-null float64\n",
      "1.000000000000000000e+00.84    172 non-null float64\n",
      "1.000000000000000000e+00.85    172 non-null float64\n",
      "1.000000000000000000e+00.86    172 non-null float64\n",
      "1.000000000000000000e+00.87    172 non-null float64\n",
      "1.000000000000000000e+00.88    172 non-null float64\n",
      "1.000000000000000000e+00.89    172 non-null float64\n",
      "1.000000000000000000e+00.90    172 non-null float64\n",
      "1.000000000000000000e+00.91    172 non-null float64\n",
      "1.000000000000000000e+00.92    172 non-null float64\n",
      "1.000000000000000000e+00.93    172 non-null float64\n",
      "1.000000000000000000e+00.94    172 non-null float64\n",
      "1.000000000000000000e+00.95    172 non-null float64\n",
      "1.000000000000000000e+00.96    172 non-null float64\n",
      "1.000000000000000000e+00.97    172 non-null float64\n",
      "dtypes: float64(100)\n",
      "memory usage: 134.5 KB\n"
     ]
    }
   ],
   "source": [
    "import pandas as pd\n",
    "\n",
    "data = pd.read_csv('velocity.csv')\n",
    "\n",
    "\n",
    "data.info()\n",
    "\n",
    "print(data)\n",
    "\n",
    "\n",
    "\n",
    "\n",
    "\n",
    "\n",
    "\n"
   ]
  },
  {
   "cell_type": "code",
   "execution_count": null,
   "metadata": {},
   "outputs": [],
   "source": []
  }
 ],
 "metadata": {
  "kernelspec": {
   "display_name": "Python 3",
   "language": "python",
   "name": "python3"
  },
  "language_info": {
   "codemirror_mode": {
    "name": "ipython",
    "version": 3
   },
   "file_extension": ".py",
   "mimetype": "text/x-python",
   "name": "python",
   "nbconvert_exporter": "python",
   "pygments_lexer": "ipython3",
   "version": "3.6.5"
  }
 },
 "nbformat": 4,
 "nbformat_minor": 2
}
